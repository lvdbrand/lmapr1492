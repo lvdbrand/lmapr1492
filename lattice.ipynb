{
 "cells": [
  {
   "cell_type": "code",
   "execution_count": 20,
   "id": "acute-profession",
   "metadata": {},
   "outputs": [
    {
     "name": "stdout",
     "output_type": "stream",
     "text": [
      "Vecteurs de base du réseau direct: \n",
      "\n",
      "6.875433 -2.019612 0.000000\n",
      "6.875433 2.019612 0.000000\n",
      "6.282185 0.000000 3.447398 \n",
      "\n",
      "Norme des vecteurs:\n",
      "\n",
      "a= 7.165920148036329\n",
      "b= 7.165920148036329\n",
      "c= 7.1659194347012445 \n",
      "\n",
      "Angles entre les vecteurs:\n",
      "\n",
      "alpha= 32.73958910652231\n",
      "beta= 32.73958910652231\n",
      "gamma= 32.73958921752526\n"
     ]
    }
   ],
   "source": [
    "from pymatgen.ext.matproj import MPRester\n",
    "from pymatgen.io.cif import CifWriter\n",
    "from pymatgen import Lattice, Structure\n",
    "from pymatgen.symmetry.analyzer import SpacegroupAnalyzer\n",
    "\n",
    "cle_api=\"DFGNkaXUTedPM8g2\"\n",
    "id_mp=\"mp-1018096\"\n",
    "with MPRester(cle_api) as l:\n",
    "    structure=l.get_structure_by_material_id(id_mp)\n",
    "\n",
    "lattice=structure.lattice\n",
    "#réseau direct\n",
    "print('Vecteurs de base du réseau direct: \\n')\n",
    "print(lattice,'\\n') #each row represents one lattice vector\n",
    "print('Norme des vecteurs:\\n')\n",
    "print('a=',lattice.a)\n",
    "print('b=',lattice.b)\n",
    "print('c=',lattice.c,'\\n')\n",
    "print('Angles entre les vecteurs:\\n')\n",
    "print('alpha=', lattice.alpha)\n",
    "print('beta=',lattice.beta)\n",
    "print('gamma=',lattice.gamma)"
   ]
  },
  {
   "cell_type": "code",
   "execution_count": 15,
   "id": "numeric-technology",
   "metadata": {},
   "outputs": [
    {
     "name": "stdout",
     "output_type": "stream",
     "text": [
      "Vecteurs de base du réseau réciproque: \n",
      "\n",
      "0.456930 -1.555543 -0.832663\n",
      "0.456930 1.555543 -0.832663\n",
      "0.000000 0.000000 1.822588 \n",
      "\n",
      "Norme des vecteurs:\n",
      "\n",
      "a= 1.8225875465450847\n",
      "b= 1.8225875465450847\n",
      "c= 1.822587733467266 \n",
      "\n",
      "Angles entre les vecteurs:\n",
      "\n",
      "alpha= 117.1845099779279\n",
      "beta= 117.1845099779279\n",
      "gamma= 117.18450964177875\n"
     ]
    }
   ],
   "source": [
    "#réseau réciproque\n",
    "reciprok=lattice.reciprocal_lattice\n",
    "print('Vecteurs de base du réseau réciproque: \\n')\n",
    "print(reciprok,'\\n') #each row represents one lattice vector\n",
    "print('Norme des vecteurs:\\n')\n",
    "print('a=',reciprok.a)\n",
    "print('b=',reciprok.b)\n",
    "print('c=',reciprok.c,'\\n')\n",
    "print('Angles entre les vecteurs:\\n')\n",
    "print('alpha=', reciprok.alpha)\n",
    "print('beta=',reciprok.beta)\n",
    "print('gamma=',reciprok.gamma)"
   ]
  },
  {
   "cell_type": "code",
   "execution_count": 26,
   "id": "subtle-episode",
   "metadata": {},
   "outputs": [
    {
     "name": "stdout",
     "output_type": "stream",
     "text": [
      "Type de maille : rhombohedral\n",
      "Système cirstallin : trigonal\n",
      "Groupe ponctuel : -3m\n"
     ]
    }
   ],
   "source": [
    "#informations supplémentaire sur le cristal\n",
    "info=SpacegroupAnalyzer(structure,0.1)\n",
    "print('Type de maille :',info.get_lattice_type())\n",
    "print('Système cirstallin :',info.get_crystal_system())\n",
    "print('Groupe ponctuel :',info.get_point_group_symbol())"
   ]
  },
  {
   "cell_type": "code",
   "execution_count": null,
   "id": "boolean-caribbean",
   "metadata": {},
   "outputs": [],
   "source": []
  }
 ],
 "metadata": {
  "kernelspec": {
   "display_name": "Python 3",
   "language": "python",
   "name": "python3"
  },
  "language_info": {
   "codemirror_mode": {
    "name": "ipython",
    "version": 3
   },
   "file_extension": ".py",
   "mimetype": "text/x-python",
   "name": "python",
   "nbconvert_exporter": "python",
   "pygments_lexer": "ipython3",
   "version": "3.6.8"
  }
 },
 "nbformat": 4,
 "nbformat_minor": 5
}
