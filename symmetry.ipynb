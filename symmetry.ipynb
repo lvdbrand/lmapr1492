{
 "cells": [
  {
   "cell_type": "code",
   "execution_count": 1,
   "id": "pursuant-calculator",
   "metadata": {},
   "outputs": [],
   "source": [
    "from pymatgen.ext.matproj import MPRester\n",
    "from pymatgen.io.cif import CifWriter\n",
    "from pymatgen import Lattice, Structure\n",
    "from pymatgen.symmetry.analyzer import SpacegroupAnalyzer\n",
    "from pymatgen.core.operations import SymmOp\n",
    "from pymatgen.io.xyz import *\n",
    "\n",
    "cle_api=\"DFGNkaXUTedPM8g2\"\n",
    "id_mp=\"mp-1018096\"\n",
    "with MPRester(cle_api) as l:\n",
    "    structure=l.get_structure_by_material_id(id_mp)\n",
    "    f=CifWriter(structure,1.0)\n",
    "    f.write_file('Ba2NF_symmetrized.cif')"
   ]
  },
  {
   "cell_type": "code",
   "execution_count": 2,
   "id": "fallen-gender",
   "metadata": {},
   "outputs": [
    {
     "name": "stdout",
     "output_type": "stream",
     "text": [
      "Atome initial : [0.6666666666666666, 0.3333333333333333, 0.57495] (en rouge sur les figures ci-dessous)\n",
      "Atome final : [ 0.33333333 -0.33333333 -0.57495   ]\n",
      "Matrice de rotation : \n",
      " [[ 0.  1.  0.]\n",
      " [-1.  1.  0.]\n",
      " [ 0.  0. -1.]] \n",
      "\n",
      "Vecteur de translation : \n",
      " [0. 0. 0.] \n",
      "\n",
      "Equation de symétrie : \n",
      " [ 0.33333333 -0.33333333 -0.57495   ] = \n",
      " [[ 0.  1.  0.]\n",
      " [-1.  1.  0.]\n",
      " [ 0.  0. -1.]] . [0.6666666666666666, 0.3333333333333333, 0.57495] + [0. 0. 0.] \n",
      "\n",
      "Le centre de l'inversion est l'atome (en rose sur les figures) à la position (x,y,z)=(0,0,0).\n",
      "L'axe de rotation C2 appliqué à l'atome Ba0 n°6 correspond à l'axe c.\n"
     ]
    }
   ],
   "source": [
    "sym1=SymmOp.from_xyz_string('y, -x+y, -z') #4e éléments de symétrie dans le fichier Ba2NF_symmetrized.cif\n",
    "Ba0i_1=[2/3,1/3,0.57495] #Atome B0 n°6\n",
    "Ba0f_1=sym1.operate(Ba0i_1)\n",
    "print(\"Atome initial :\",Ba0i_1, \"(en rouge sur les figures ci-dessous)\")\n",
    "print(\"Atome final :\",Ba0f_1)\n",
    "Matrot=sym1.rotation_matrix\n",
    "Vectrans=sym1.translation_vector\n",
    "print(\"Matrice de rotation : \\n\",Matrot,'\\n')\n",
    "print(\"Vecteur de translation : \\n\",Vectrans,'\\n')\n",
    "print(\"Equation de symétrie : \\n\",Ba0f_1,'= \\n',Matrot,'.',Ba0i_1,'+',Vectrans,'\\n')\n",
    "print(\"Le centre de l'inversion est l'atome (en rose sur les figures) à la position (x,y,z)=(0,0,0).\")\n",
    "print(\"L'axe de rotation C2 appliqué à l'atome Ba0 n°6 correspond à l'axe c.\")"
   ]
  },
  {
   "cell_type": "code",
   "execution_count": null,
   "id": "unlike-secondary",
   "metadata": {},
   "outputs": [],
   "source": [
    "%%html\n",
    "<img src = \"Sym1a.jpg\",width=200,height=200>\n",
    "<img src = \"Sym1c.jpg\",width=200,height=200>"
   ]
  },
  {
   "cell_type": "code",
   "execution_count": null,
   "id": "aerial-bristol",
   "metadata": {},
   "outputs": [],
   "source": [
    "sym2=SymmOp.from_xyz_string('x+2/3, y+1/3, z+1/3') #13e éléments de symétrie dans le fichier Ba2NF_symmetrized.cif\n",
    "N1i_2=[2/3,1/3,0.83333] #atome N1 n°7\n",
    "N1f_2=sym2.operate(N1i_2)\n",
    "print(\"Atome initial :\",N1i_2,\"(En rouge sur la figure ci-dessous)\")\n",
    "print(\"Atome final :\",N1f_2,\"(En rose sur la figure ci-dessous)\")\n",
    "Matrot=sym2.rotation_matrix\n",
    "Vectrans=sym2.translation_vector\n",
    "print(\"Matrice de rotation : \\n\",Matrot,'\\n')\n",
    "print(\"Vecteur de translation : \\n\",Vectrans,'\\n')\n",
    "print(\"Equation de symétrie : \\n\",N1f_2,'= \\n',Matrot,'.',N1i_2,'+',Vectrans,'\\n')"
   ]
  },
  {
   "cell_type": "code",
   "execution_count": null,
   "id": "invalid-sector",
   "metadata": {},
   "outputs": [],
   "source": [
    "%%html\n",
    "<img src = \"Sym2a.jpg\",width=200,height=200>"
   ]
  },
  {
   "cell_type": "code",
   "execution_count": 4,
   "id": "configured-brazil",
   "metadata": {},
   "outputs": [
    {
     "name": "stdout",
     "output_type": "stream",
     "text": [
      "Atome initial : [0.3333333333333333, 0.6666666666666666, 0.42505] (En rouge sur la figure ci-dessous)\n",
      "Atome final : [ 0.66666667  0.33333333 -0.42505   ]\n",
      "Matrice de rotation : \n",
      " [[ 1.  0.  0.]\n",
      " [ 1. -1.  0.]\n",
      " [ 0.  0.  1.]] \n",
      "\n",
      "Vecteur de translation : \n",
      " [0.33333333 0.66666667 0.66666667] \n",
      "\n",
      "Equation de symétrie : \n",
      " [ 0.66666667  0.33333333 -0.42505   ] = \n",
      " [[ 1.  0.  0.]\n",
      " [ 1. -1.  0.]\n",
      " [ 0.  0.  1.]] . [0.3333333333333333, 0.6666666666666666, 0.42505] + [0.33333333 0.66666667 0.66666667] \n",
      "\n",
      "Le plan miroir correspond au plan (2 -3 0).\n"
     ]
    }
   ],
   "source": [
    "sym2=SymmOp.from_xyz_string('x+1/3, x-y+2/3, z+2/3') #36e éléments de symétrie dans le fichier Ba2NF_symmetrized.cif\n",
    "Ba0i_3=[1/3,2/3,0.42505] #atome Ba0 n°14\n",
    "Ba0f_3=sym1.operate(Ba0i_3)\n",
    "print(\"Atome initial :\",Ba0i_3,\"(En rouge sur la figure ci-dessous)\")\n",
    "print(\"Atome final :\",Ba0f_3)\n",
    "Matrot=sym2.rotation_matrix\n",
    "Vectrans=sym2.translation_vector\n",
    "print(\"Matrice de rotation : \\n\",Matrot,'\\n')\n",
    "print(\"Vecteur de translation : \\n\",Vectrans,'\\n')\n",
    "print(\"Equation de symétrie : \\n\",Ba0f_3,'= \\n',Matrot,'.',Ba0i_3,'+',Vectrans,'\\n')\n",
    "print(\"Le plan miroir correspond au plan (2 -3 0).\")"
   ]
  },
  {
   "cell_type": "code",
   "execution_count": null,
   "id": "satisfactory-burden",
   "metadata": {},
   "outputs": [],
   "source": [
    "%%html\n",
    "<img src = \"Sym3a.jpg\",width=200,height=200>\n",
    "<img src = \"Sym3c.jpg\",width=200,height=200>"
   ]
  },
  {
   "cell_type": "code",
   "execution_count": null,
   "id": "religious-highlight",
   "metadata": {},
   "outputs": [],
   "source": []
  }
 ],
 "metadata": {
  "kernelspec": {
   "display_name": "Python 3",
   "language": "python",
   "name": "python3"
  },
  "language_info": {
   "codemirror_mode": {
    "name": "ipython",
    "version": 3
   },
   "file_extension": ".py",
   "mimetype": "text/x-python",
   "name": "python",
   "nbconvert_exporter": "python",
   "pygments_lexer": "ipython3",
   "version": "3.6.8"
  }
 },
 "nbformat": 4,
 "nbformat_minor": 5
}
